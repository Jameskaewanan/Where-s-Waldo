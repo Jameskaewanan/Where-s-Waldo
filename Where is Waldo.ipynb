{
 "cells": [
  {
   "cell_type": "code",
   "execution_count": 15,
   "metadata": {},
   "outputs": [
    {
     "output_type": "execute_result",
     "data": {
      "text/plain": [
       "True"
      ]
     },
     "metadata": {},
     "execution_count": 15
    }
   ],
   "source": [
    "\n",
    "################################## Method Explaination ##################################\n",
    "\n",
    "\"\"\"\n",
    "This project is a collaboration between:\n",
    "\n",
    "James Kaewanan,     ID: 6180224\n",
    "Krit Visitstump,    ID: 6180017\n",
    "\n",
    "The method of approach for this project is to use a technique called 'Template Matching'\n",
    "Using a target image (template) to compare to the source image in order to find out the extent to which it matches.\n",
    "A match is determined by the how much the neighbourhood pixels in the input matches with the template.\n",
    "\n",
    "\"\"\"\n",
    "#########################################################################################\n",
    "\n",
    "# We will use OpenCV as it has a function that supports template matching\n",
    "\n",
    "import cv2\n",
    "import numpy as np\n",
    "from matplotlib import pyplot as plt\n",
    "\n",
    "####################################### User Input ######################################\n",
    "\n",
    "# User input is needed to identify which source image (puzzle) to use and what target image (template) to use\n",
    "# The path to each image should be given\n",
    "# Source Image (puzzle) should exclusivley be in JPEG format\n",
    "# Template (waldo) should exclusively be in PNG format\n",
    "\n",
    "puzzle = cv2.imread('C:/Users/USER/Desktop/project/img/puzzle/puzzle1.jpg')             # Source Image\n",
    "waldo = cv2.imread('C:/Users/USER/Desktop/project/img/waldo/the man himself.png',0)     # Template\n",
    "\n",
    "#########################################################################################\n",
    "\n",
    "grayscale = cv2.cvtColor(puzzle, cv2.COLOR_BGR2GRAY) # To reduce the complexity of image we turn the colours into grayscale\n",
    "\n",
    "# Assigning the dimensions of the template into Width (w) and Height (h)\n",
    "w, h = template.shape[::-1]\n",
    "\n",
    "res = cv2.matchTemplate(grayscale,waldo,cv2.TM_CCOEFF_NORMED)\n",
    "threshold = 0.6 # Threshold at which to determine the match, the more cluttered the puzzle the easy it will be to use a low threshold\n",
    "\n",
    "# Finding the values where it exceeds the threshold\n",
    "loc = np.where( res >= threshold)\n",
    "for pt in zip(*loc[::-1]):\n",
    "    #Draw rectangle on places where it exceeds threshold to show the location of waldo\n",
    "    cv2.rectangle(puzzle, pt, (pt[0] + w, pt[1] + h), (0,255,0), 3)\n",
    "\n",
    "cv2.imwrite('waldo_location.png',img_rgb) # Create an image of waldo where the location is indicated by a green square"
   ]
  },
  {
   "cell_type": "code",
   "execution_count": null,
   "metadata": {},
   "outputs": [],
   "source": []
  }
 ],
 "metadata": {
  "kernelspec": {
   "name": "python3",
   "display_name": "Python 3.9.2 64-bit (windows store)",
   "metadata": {
    "interpreter": {
     "hash": "2f66889c2f8cfaa3b134442d5caf97205a477113c67dce8dfa2f2a8f3850c6f0"
    }
   }
  },
  "language_info": {
   "codemirror_mode": {
    "name": "ipython",
    "version": 3
   },
   "file_extension": ".py",
   "mimetype": "text/x-python",
   "name": "python",
   "nbconvert_exporter": "python",
   "pygments_lexer": "ipython3",
   "version": "3.9.2"
  }
 },
 "nbformat": 4,
 "nbformat_minor": 4
}